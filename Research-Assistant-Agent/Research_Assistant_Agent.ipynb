{
 "cells": [
  {
   "cell_type": "markdown",
   "id": "04b36514",
   "metadata": {},
   "source": [
    "\n",
    "\n",
    "### Course Number: INFO 7374\n",
    "### Assignment: 5\n",
    "\n",
    "\n",
    "---\n",
    "\n",
    "\n",
    "### *Student Name: Krishnakanth Naik Jarapala*\n",
    "### *NU-ID: 002724795*\n",
    "\n"
   ]
  },
  {
   "cell_type": "markdown",
   "id": "3b8282af",
   "metadata": {},
   "source": [
    "### 1. Import Required Libraries"
   ]
  },
  {
   "cell_type": "code",
   "execution_count": 1,
   "id": "1c5ca7b9",
   "metadata": {},
   "outputs": [
    {
     "name": "stderr",
     "output_type": "stream",
     "text": [
      "c:\\Users\\jkkn7\\PycharmProjects\\Research-Agent-langchain\\raagentvenv\\Lib\\site-packages\\tqdm\\auto.py:21: TqdmWarning: IProgress not found. Please update jupyter and ipywidgets. See https://ipywidgets.readthedocs.io/en/stable/user_install.html\n",
      "  from .autonotebook import tqdm as notebook_tqdm\n"
     ]
    }
   ],
   "source": [
    "import os \n",
    "from dotenv import load_dotenv\n",
    "\n",
    "load_dotenv() \n",
    "\n",
    "import re\n",
    "import time\n",
    "from langchain_core import tools, prompts\n",
    "from langchain.chains import LLMChain, SequentialChain\n",
    "from langchain_core.prompts import ChatPromptTemplate\n",
    "from langchain_community.chat_models import ChatOpenAI, ChatAnthropic\n",
    "from langchain.tools import BaseTool, StructuredTool, Tool\n",
    "from langchain.memory import SimpleMemory\n",
    "from langchain_community.llms import Ollama\n",
    "from langchain_community.tools import BraveSearch\n",
    "from langchain_google_genai import ChatGoogleGenerativeAI"
   ]
  },
  {
   "cell_type": "markdown",
   "id": "3ffe4e6b",
   "metadata": {},
   "source": [
    "### Intialize your LLM"
   ]
  },
  {
   "cell_type": "code",
   "execution_count": 2,
   "id": "fa0e53cd",
   "metadata": {},
   "outputs": [],
   "source": [
    "## Function to LLM Model\n",
    "def load_llm_model(model_name):\n",
    "\n",
    "    if model_name == 'gemini':\n",
    "        return ChatGoogleGenerativeAI(model=\"gemini-pro\",\n",
    "                             verbrose= True,\n",
    "                             temperature= 0.8,\n",
    "                             google_api_key= os.getenv('GEMINI_API_KEY'))\n",
    "    if model_name == 'local':\n",
    "        return Ollama(model=\"llama3\")\n",
    "\n",
    "\n",
    "## Load Required Model\n",
    "llm = load_llm_model('local')"
   ]
  },
  {
   "cell_type": "code",
   "execution_count": 3,
   "id": "eb9ba273",
   "metadata": {},
   "outputs": [
    {
     "name": "stdout",
     "output_type": "stream",
     "text": [
      "Here are two sentences about machine learning:\n",
      "\n",
      "Machine learning is a subfield of artificial intelligence that involves training computers to make predictions or decisions based on patterns and relationships within large datasets. By analyzing data, identifying trends, and adapting to new information, machine learning models can improve their performance over time, enabling applications such as image recognition, natural language processing, and predictive analytics.\n"
     ]
    }
   ],
   "source": [
    "## Lets Check Model response\n",
    "print(llm.invoke(\"Write 2 sentence about Machine Learning?\"))"
   ]
  },
  {
   "cell_type": "markdown",
   "id": "576fc5ec",
   "metadata": {},
   "source": [
    "## Tools"
   ]
  },
  {
   "cell_type": "markdown",
   "id": "035d2982",
   "metadata": {},
   "source": [
    "#### 1. Topic Breakdown Tool\n",
    "* uses Gemini LLM or Local Model to break the main topic into smaller, more focused subtopics."
   ]
  },
  {
   "cell_type": "code",
   "execution_count": 4,
   "id": "cb71b881",
   "metadata": {},
   "outputs": [
    {
     "name": "stderr",
     "output_type": "stream",
     "text": [
      "c:\\Users\\jkkn7\\PycharmProjects\\Research-Agent-langchain\\raagentvenv\\Lib\\site-packages\\langchain_core\\_api\\deprecation.py:139: LangChainDeprecationWarning: The class `LLMChain` was deprecated in LangChain 0.1.17 and will be removed in 1.0. Use RunnableSequence, e.g., `prompt | llm` instead.\n",
      "  warn_deprecated(\n"
     ]
    }
   ],
   "source": [
    "# Topic Breakdown Tool\n",
    "topic_breakdown_prompt = ChatPromptTemplate.from_template(\n",
    "    '''\n",
    "    Break down the research topic: '{topic}' into 2-3 diverse subtopics, output should have only the list of subtopics\n",
    "    '''\n",
    ")\n",
    "topic_breakdown_chain = LLMChain(\n",
    "    llm=llm, \n",
    "    prompt=topic_breakdown_prompt, \n",
    "    output_key=\"subtopic\"  # The output variable for this chain\n",
    ")"
   ]
  },
  {
   "cell_type": "code",
   "execution_count": 5,
   "id": "3dfd4d59",
   "metadata": {},
   "outputs": [
    {
     "name": "stdout",
     "output_type": "stream",
     "text": [
      "Here are 3 diverse subtopics related to \"AI in Healthcare\":\n",
      "\n",
      "• **Predictive Modeling and Disease Diagnosis**\n",
      "• **Personalized Medicine and Treatment Optimization**\n",
      "• **Clinical Decision Support Systems and Patient Engagement**\n"
     ]
    }
   ],
   "source": [
    "# sample Topic\n",
    "topic_name = \"AI in Healthcare\"\n",
    "\n",
    "# Run the Topic Breakdown Chain\n",
    "subtopics = topic_breakdown_chain.invoke(input = {'topic': topic_name})\n",
    "print(subtopics['subtopic'])"
   ]
  },
  {
   "cell_type": "markdown",
   "id": "0ee1edb1",
   "metadata": {},
   "source": [
    "### 2. Query Expansion Tool\n",
    "* Generates related keywords, synonyms, and phrases on expanded the sub-topic generated by the Topic Breakdown Tool to enhance the search results."
   ]
  },
  {
   "cell_type": "code",
   "execution_count": 6,
   "id": "61f3b19c",
   "metadata": {},
   "outputs": [],
   "source": [
    "# Query Expansion Tool\n",
    "query_expansion_prompt = ChatPromptTemplate.from_template(\n",
    "    \"Generate only 3 related phrases for the subtopic '{subtopic}', output should have only the list of phrases\"\n",
    ")\n",
    "\n",
    "query_expansion_chain = LLMChain(\n",
    "    llm=llm, \n",
    "    prompt=query_expansion_prompt, \n",
    "    output_key=\"expanded_queries\"  \n",
    ")"
   ]
  },
  {
   "cell_type": "code",
   "execution_count": 7,
   "id": "bdd0d46f",
   "metadata": {},
   "outputs": [
    {
     "name": "stdout",
     "output_type": "stream",
     "text": [
      "Here are three related phrases for the subtopic 'Here are 3 diverse subtopics related to \"AI in Healthcare\"':\n",
      "\n",
      "• AI-Driven Diagnostic Accuracies\n",
      "• Tailored Therapies through Data Analytics\n",
      "• Intelligent Guidance for Healthier Choices\n"
     ]
    }
   ],
   "source": [
    "# Run the Query Expansion Chain\n",
    "expanded_topics = query_expansion_chain.invoke(input = {'subtopic': subtopics['subtopic']})\n",
    "print(expanded_topics['expanded_queries'])\n"
   ]
  },
  {
   "cell_type": "markdown",
   "id": "b5a376ab",
   "metadata": {},
   "source": [
    "### 3. Search Tool - Google Serper API"
   ]
  },
  {
   "cell_type": "code",
   "execution_count": 8,
   "id": "fc034a18",
   "metadata": {},
   "outputs": [],
   "source": [
    "from langchain.utilities import GoogleSerperAPIWrapper\n",
    "\n",
    "os.environ[\"SERPER_API_KEY\"] = os.getenv('SERPER_API_KEY')\n",
    "\n",
    "search = GoogleSerperAPIWrapper( )\n",
    "\n",
    "tool = Tool(\n",
    "    name=\"Scrape google searches\",\n",
    "    func=search.run,\n",
    "    description=\"useful for when you need to ask the agent to search the internet\",\n",
    ")"
   ]
  },
  {
   "cell_type": "code",
   "execution_count": 9,
   "id": "78b0ef80",
   "metadata": {},
   "outputs": [],
   "source": [
    "def run_search(topic, expanded_queries):\n",
    "     # Conduct the initial search on the main topic\n",
    "    main_search_results = tool.run(topic)\n",
    "    time.sleep(2)  # Pause to prevent rate limiting or overload\n",
    "    \n",
    "    additional_search_results = ''\n",
    "    \n",
    "    # Extract individual queries using regular expressions\n",
    "    queries = re.findall(r'\\+\\s*\"([^\"]+)\"', expanded_queries)\n",
    "    \n",
    "    # Perform searches for each extracted query\n",
    "    for query in queries:\n",
    "        time.sleep(2)  # Pause between searches\n",
    "        result = tool.run(query)  # Fetch search results for the current query\n",
    "        additional_search_results += result  # Append the result to the cumulative string\n",
    "    \n",
    "    # Combine the results from the main topic search and the expanded queries\n",
    "    combined_results = main_search_results + additional_search_results\n",
    "    \n",
    "    return combined_results"
   ]
  },
  {
   "cell_type": "code",
   "execution_count": 10,
   "id": "97c4b6ca",
   "metadata": {},
   "outputs": [
    {
     "name": "stdout",
     "output_type": "stream",
     "text": [
      "Given the rapid advances in AI for imaging analysis, it seems likely that most radiology and pathology images will be examined at some point by a machine. Healthcare AI systems can analyze patterns in a patient's medical history and current health data to predict potential health risks. This predictive capability ... AI can be used to support digital communications, offering schedule reminders, tailored health tips and suggested next steps to patients. The ability of AI to ... When it comes to supporting the overall health of a population, AI can help people manage chronic illnesses themselves — think asthma, diabetes ... What you'll learn · Identify problems healthcare providers face that machine learning can solve · Analyze how AI affects patient care safety, quality, and ... Additionally, AI increases the ability for healthcare professionals to better understand the day-to-day patterns and needs of the people they care for, and with ... AI is helping doctors analyze images more quickly and effectively, seeking signs of breast cancer, lung nodules, and many other conditions to ... AI systems today are beginning to be adopted by healthcare organisations to automate time consuming, high volume repetitive tasks. Moreover, there is ... Learn how Generative AI in health care could transform the Future of Health™ by accelerating efficiency, effectiveness, and innovation across the ecosystem.\n"
     ]
    }
   ],
   "source": [
    "search_results = run_search(topic_name, expanded_topics['expanded_queries'])\n",
    "print(search_results)"
   ]
  },
  {
   "cell_type": "markdown",
   "id": "1c5165ec",
   "metadata": {},
   "source": [
    "### 4. Summarize Search Results Tool\n",
    "* Summarize the provided search results on the topic"
   ]
  },
  {
   "cell_type": "code",
   "execution_count": 11,
   "id": "078a5224",
   "metadata": {},
   "outputs": [],
   "source": [
    "# Search Summary Tool\n",
    "summary_prompt = ChatPromptTemplate.from_template(\n",
    "    '''\n",
    "    Summarize the provided search results on the topic: {topic}. \n",
    "    Make sure to include all the important points, themes, and details, presenting the information in a well-organized and easy-to-understand way. \n",
    "    The summary should offer a clear, high-level overview that encapsulates the core insights from the search results. \n",
    "    Please ensure that no factual information is modified.\n",
    "    Search Results are: {search_results} \n",
    "    '''\n",
    ")\n",
    "\n",
    "summary_search_results_chain = LLMChain(\n",
    "    llm=llm, \n",
    "    prompt=summary_prompt, \n",
    "    output_key=\"summary\"  \n",
    ")"
   ]
  },
  {
   "cell_type": "code",
   "execution_count": 12,
   "id": "6b4d50b7",
   "metadata": {},
   "outputs": [
    {
     "name": "stderr",
     "output_type": "stream",
     "text": [
      "c:\\Users\\jkkn7\\PycharmProjects\\Research-Agent-langchain\\raagentvenv\\Lib\\site-packages\\langchain_core\\_api\\deprecation.py:139: LangChainDeprecationWarning: The method `Chain.run` was deprecated in langchain 0.1.0 and will be removed in 0.3.0. Use invoke instead.\n",
      "  warn_deprecated(\n"
     ]
    },
    {
     "name": "stdout",
     "output_type": "stream",
     "text": [
      "**AI in Healthcare: A Comprehensive Summary**\n",
      "\n",
      "The search results highlight the significant impact of Artificial Intelligence (AI) on the healthcare industry, with a focus on imaging analysis, predictive capabilities, patient communication, chronic illness management, and overall population health.\n",
      "\n",
      "**Imaging Analysis and Pattern Detection**\n",
      "\n",
      "AI can analyze radiology and pathology images to identify patterns and detect potential health risks. This technology is likely to become increasingly prevalent in radiology and pathology departments.\n",
      "\n",
      "**Predictive Capabilities and Patient Safety**\n",
      "\n",
      "Healthcare AI systems can analyze a patient's medical history and current data to predict potential health risks, enabling early intervention and improved patient outcomes. Additionally, AI increases the ability for healthcare professionals to better understand patients' day-to-day patterns and needs.\n",
      "\n",
      "**Patient Communication and Support**\n",
      "\n",
      "AI-powered digital communications can provide schedule reminders, tailored health tips, and suggested next steps to patients, enhancing patient engagement and empowerment.\n",
      "\n",
      "**Chronic Illness Management**\n",
      "\n",
      "AI can help people manage chronic illnesses such as asthma and diabetes by providing personalized guidance and support. This technology has the potential to improve treatment outcomes and reduce healthcare costs.\n",
      "\n",
      "**Population Health Management**\n",
      "\n",
      "AI can be used to analyze patterns in a population's health data, identifying areas for improvement and informing public health initiatives. This can lead to more effective disease prevention and management strategies.\n",
      "\n",
      "**Automation of Repetitive Tasks**\n",
      "\n",
      "AI systems are being adopted by healthcare organizations to automate time-consuming, high-volume tasks, freeing up human resources for more complex and high-value work.\n",
      "\n",
      "**Generative AI in Healthcare**\n",
      "\n",
      "The integration of Generative AI in healthcare has the potential to transform the industry by accelerating efficiency, effectiveness, and innovation across the ecosystem. This technology can help improve diagnosis accuracy, treatment outcomes, and patient satisfaction.\n",
      "\n",
      "In summary, AI is revolutionizing healthcare by:\n",
      "\n",
      "1. Enhancing imaging analysis and pattern detection\n",
      "2. Improving predictive capabilities for patient safety and outcomes\n",
      "3. Supporting patient communication and engagement\n",
      "4. Managing chronic illnesses effectively\n",
      "5. Optimizing population health management strategies\n",
      "6. Automating repetitive tasks\n",
      "7. Transforming the future of healthcare through Generative AI\n",
      "\n",
      "Overall, AI has the potential to transform healthcare by improving patient outcomes, enhancing clinical decision-making, and increasing efficiency across the healthcare ecosystem.\n"
     ]
    }
   ],
   "source": [
    "summary = summary_search_results_chain.run(topic=topic_name,search_results=search_results)\n",
    "print(summary)"
   ]
  },
  {
   "cell_type": "markdown",
   "id": "c3489366",
   "metadata": {},
   "source": [
    "### 5. Critique Tool\n",
    "* The tool critiques the summary, and offers suggestions of how to improve and potentially other relevant topics to search for. "
   ]
  },
  {
   "cell_type": "code",
   "execution_count": 13,
   "id": "acc16a13",
   "metadata": {},
   "outputs": [],
   "source": [
    "# 4. Critique Tool\n",
    "critique_prompt = ChatPromptTemplate.from_template(\n",
    "    '''\n",
    "    Here is a summary of search results: {summary}, covering different aspects and subtopics of {topic}.\n",
    "    Review this summary by critiques and pointing out any omissions, errors, or sections that could benefit from further refinement. \n",
    "    Ensure that the facts remain unchanged.\n",
    "    Following your critique, produce a revised summary that resolves the issues identified, improving the clarity, thoroughness, and overall quality of the content.\n",
    "    Output should have only the revised summary.\n",
    "    '''\n",
    ")\n",
    "critique_chain = LLMChain(\n",
    "    llm=llm, \n",
    "    prompt=critique_prompt, \n",
    "    output_key=\"critique\"  \n",
    ")"
   ]
  },
  {
   "cell_type": "code",
   "execution_count": 14,
   "id": "bf2ae519",
   "metadata": {},
   "outputs": [
    {
     "name": "stdout",
     "output_type": "stream",
     "text": [
      "**Revised Summary: AI in Healthcare - A Comprehensive Review**\n",
      "\n",
      "The search results highlight the transformative impact of Artificial Intelligence (AI) on the healthcare industry, covering imaging analysis, predictive capabilities, patient communication, chronic illness management, population health, automation, and generative AI.\n",
      "\n",
      "**Imaging Analysis and Pattern Detection**\n",
      "\n",
      "AI-powered image analysis enhances radiology and pathology departments by detecting patterns and identifying potential health risks. This technology will become increasingly prevalent in medical imaging.\n",
      "\n",
      "**Predictive Capabilities and Patient Safety**\n",
      "\n",
      "Healthcare AI systems analyze patient data to predict potential health risks, enabling early intervention and improved outcomes. AI also enables healthcare professionals to understand patients' day-to-day needs and patterns.\n",
      "\n",
      "**Patient Communication and Support**\n",
      "\n",
      "AI-powered digital communications provide personalized reminders, health tips, and next steps, enhancing patient engagement and empowerment.\n",
      "\n",
      "**Chronic Illness Management**\n",
      "\n",
      "AI helps manage chronic illnesses like asthma and diabetes by providing personalized guidance and support. This technology has the potential to improve treatment outcomes and reduce healthcare costs.\n",
      "\n",
      "**Population Health Management**\n",
      "\n",
      "AI analyzes population health data to identify areas for improvement and inform public health initiatives, leading to more effective disease prevention and management strategies.\n",
      "\n",
      "**Automation of Repetitive Tasks**\n",
      "\n",
      "Healthcare organizations are adopting AI systems to automate high-volume tasks, freeing up human resources for complex work. This increases efficiency and productivity.\n",
      "\n",
      "**Generative AI in Healthcare**\n",
      "\n",
      "The integration of Generative AI has the potential to transform healthcare by accelerating efficiency, effectiveness, and innovation. It can improve diagnosis accuracy, treatment outcomes, and patient satisfaction.\n",
      "\n",
      "In summary, AI is revolutionizing healthcare by:\n",
      "\n",
      "1. Enhancing imaging analysis and pattern detection\n",
      "2. Improving predictive capabilities for patient safety and outcomes\n",
      "3. Supporting patient communication and engagement\n",
      "4. Managing chronic illnesses effectively\n",
      "5. Optimizing population health management strategies\n",
      "6. Automating repetitive tasks\n",
      "7. Transforming healthcare through Generative AI\n",
      "\n",
      "**Key Takeaways:**\n",
      "\n",
      "* AI has the potential to transform healthcare by improving patient outcomes, enhancing clinical decision-making, and increasing efficiency.\n",
      "* The integration of Generative AI is crucial for accelerating innovation and driving positive change in the healthcare ecosystem.\n",
      "\n",
      "I have reviewed the original summary and identified areas that could benefit from further refinement. The revised summary maintains the same level of detail while ensuring clarity, thoroughness, and quality.\n"
     ]
    }
   ],
   "source": [
    "critique = critique_chain.run(summary=summary, topic=topic_name)\n",
    "print(critique)"
   ]
  },
  {
   "cell_type": "markdown",
   "id": "37ac5e54",
   "metadata": {},
   "source": [
    "### Complete Workflow - `Research Assistant as a Agent`"
   ]
  },
  {
   "cell_type": "code",
   "execution_count": 15,
   "id": "7036af4e",
   "metadata": {},
   "outputs": [],
   "source": [
    "# Function to run the agent\n",
    "def run_research_agent(topic: str):\n",
    "\n",
    "    # Agent - Topic Break Down + Query Expansion\n",
    "    query_expansion_agent = SequentialChain(\n",
    "        chains=[\n",
    "            topic_breakdown_chain,\n",
    "            query_expansion_chain,\n",
    "            ],\n",
    "        input_variables=[\"topic\"],  # Initial input to the chain\n",
    "        output_variables=[\"expanded_queries\"],  # Final output of the chain\n",
    "        verbose=True\n",
    "    )\n",
    "    \n",
    "    # Topic Break Down + Query Expansion\n",
    "    expanded_queries = query_expansion_agent.run({\"topic\": topic})\n",
    "    \n",
    "    # Search Tool - on Expanded Queries\n",
    "    search_results = run_search(topic, expanded_queries) \n",
    "\n",
    "    # Search Summary Tool\n",
    "    summary = summary_search_results_chain.run(topic=topic, search_results=search_results)    \n",
    "\n",
    "    # Critique and Improve Results\n",
    "    critique = critique_chain.run(summary=summary, topic=topic)\n",
    "    \n",
    "    return critique"
   ]
  },
  {
   "cell_type": "markdown",
   "id": "6dd41a81",
   "metadata": {},
   "source": [
    "### Research Assistant Agent - Improved Summary Results"
   ]
  },
  {
   "cell_type": "code",
   "execution_count": 18,
   "id": "d3778d93",
   "metadata": {},
   "outputs": [
    {
     "name": "stdout",
     "output_type": "stream",
     "text": [
      "\n",
      "\n",
      "\u001b[1m> Entering new SequentialChain chain...\u001b[0m\n",
      "\n",
      "\u001b[1m> Finished chain.\u001b[0m\n",
      "**Revised Summary: AI in Agriculture**\n",
      "\n",
      "The application of Artificial Intelligence (AI) in agriculture is revolutionizing the industry by providing farmers with real-time insights, reducing labor and input costs, and improving yields. The technology offers a range of benefits, including:\n",
      "\n",
      "* Real-time crop monitoring: AI provides farmers with valuable insights on crop health, growth, and development, enabling them to identify areas that require irrigation, fertilization, or pest control.\n",
      "* Labor and input cost reduction: By automating tasks such as crop monitoring, AI can reduce labor costs and minimize the use of inputs like water, fertilizers, and pesticides.\n",
      "* Improved yields: AI-powered precision agriculture enables farmers to optimize growing conditions, leading to higher yields and better quality crops.\n",
      "\n",
      "The three key challenges facing agriculture today – increasing global demand for food, climate change, and environmental degradation – are being tackled at scale by AI. The technology is transforming farming by:\n",
      "\n",
      "* Providing local farmers with access to a wealth of information and tools, enabling them to make more informed decisions about their farming practices.\n",
      "* Enabling the adoption of regenerative agriculture practices, such as reduced tillage, cover cropping, and nutrient management, which promote soil health and biodiversity.\n",
      "\n",
      "AI is also helping American farmers adopt advanced technologies, including:\n",
      "\n",
      "* Predictive analytics: AI can analyze historical weather data, crop growth patterns, and market trends to predict optimal planting times and yields.\n",
      "* Livestock health monitoring: AI-powered sensors and drones can monitor animal health, detect diseases, and provide real-time insights for veterinarians.\n",
      "\n",
      "Some specific applications of AI in agriculture include:\n",
      "\n",
      "1. Crop Disease Detection: AI-powered systems quickly identify crop diseases, enabling farmers to take prompt action to prevent the spread.\n",
      "2. Automated Weed Control Systems: AI-driven machines detect and remove weeds, reducing herbicide use and improving crop yields.\n",
      "3. Livestock Health Monitoring: AI-powered sensors and drones monitor animal health, detect diseases, and provide real-time insights for veterinarians.\n",
      "\n",
      "In addition, AI is being used to:\n",
      "\n",
      "* Optimize irrigation systems using sensor data and machine learning algorithms\n",
      "* Develop precision agriculture platforms that integrate with existing farm management software\n",
      "\n",
      "Overall, AI has the potential to make agriculture more efficient, sustainable, and environmentally friendly, yielding healthier food with less impact on the planet.\n"
     ]
    }
   ],
   "source": [
    "### Topic to do reasearch!\n",
    "topic = \"AI in Agriculture\"\n",
    "improved_agent_summary = run_research_agent(topic)\n",
    "print(improved_agent_summary)"
   ]
  },
  {
   "cell_type": "markdown",
   "id": "5ee3d27b",
   "metadata": {},
   "source": [
    "### Simple LLM Response on Same Topic"
   ]
  },
  {
   "cell_type": "code",
   "execution_count": 19,
   "id": "75a90c2c",
   "metadata": {},
   "outputs": [
    {
     "name": "stdout",
     "output_type": "stream",
     "text": [
      "Artificial intelligence (AI) is transforming the agriculture industry in various ways, from improving crop yields to enhancing decision-making processes. Here are some examples of AI in agriculture:\n",
      "\n",
      "1. **Precision Farming**: AI-powered precision farming uses sensors, drones, and satellites to monitor soil health, weather conditions, and crop growth. This data is used to optimize planting, irrigation, and harvesting decisions.\n",
      "2. **Crop Prediction**: AI algorithms analyze satellite and sensor data to predict crop yields, detect early signs of pests and diseases, and provide insights on optimal harvesting times.\n",
      "3. **Autonomous Farming**: Self-driving tractors and autonomous farming systems use AI to navigate fields, plant seeds, and apply fertilizers and pesticides with precision.\n",
      "4. **Livestock Monitoring**: AI-powered sensors and drones monitor livestock health, detecting early signs of illness or stress. This enables farmers to take proactive measures to improve animal welfare and productivity.\n",
      "5. **Farm-to-Table Logistics**: AI optimizes supply chain management by predicting food demand, tracking produce movement, and automating inventory management.\n",
      "6. **Weather Forecasting**: AI-powered weather forecasting systems provide accurate predictions of temperature, precipitation, and other weather conditions, enabling farmers to make informed decisions about planting, irrigation, and harvesting.\n",
      "7. **Pest and Disease Detection**: AI algorithms analyze images and sensor data to detect early signs of pests and diseases in crops, enabling farmers to take timely action to prevent damage.\n",
      "8. **Farm Robotics**: AI-powered farm robots assist with tasks like weeding, pruning, and crop sorting, improving efficiency and reducing labor costs.\n",
      "9. **Data Analytics**: AI-powered analytics platforms help farmers make data-driven decisions by analyzing production data, market trends, and weather patterns.\n",
      "10. **Smart Irrigation**: AI-powered irrigation systems optimize water usage based on soil moisture levels, weather forecasts, and crop needs, reducing waste and conserving this precious resource.\n",
      "\n",
      "Benefits of AI in Agriculture:\n",
      "\n",
      "1. **Increased Efficiency**: AI automates routine tasks, freeing up farmers to focus on higher-value activities like decision-making and strategy development.\n",
      "2. **Improved Crop Yields**: Precision farming and crop prediction enable farmers to optimize growing conditions, leading to increased yields and better crop quality.\n",
      "3. **Reduced Waste**: AI-powered systems help reduce waste by optimizing production, logistics, and inventory management.\n",
      "4. **Enhanced Decision-Making**: AI provides farmers with data-driven insights, enabling them to make informed decisions about planting, harvesting, and resource allocation.\n",
      "5. **Cost Savings**: AI reduces labor costs, optimizes resource usage, and minimizes the need for manual labor.\n",
      "\n",
      "Challenges and Limitations:\n",
      "\n",
      "1. **Data Quality**: Poor-quality data can lead to inaccurate predictions or decision-making.\n",
      "2. **Cybersecurity**: The increasing use of IoT devices in agriculture raises concerns about cybersecurity risks.\n",
      "3. **Cost and Adoption**: AI solutions require significant upfront investments, which may hinder adoption among small-scale farmers.\n",
      "4. **Scalability**: AI-powered systems need to be scalable to accommodate large farming operations and varying crop types.\n",
      "\n",
      "As the agricultural industry continues to evolve, AI is expected to play an increasingly important role in improving efficiency, reducing waste, and increasing crop yields.\n"
     ]
    }
   ],
   "source": [
    "## LLM Model Response on Same Topic\n",
    "simple_llm_response = llm.invoke(topic)\n",
    "print(simple_llm_response)"
   ]
  },
  {
   "cell_type": "markdown",
   "id": "ccaaba61",
   "metadata": {},
   "source": [
    "# Conclusion\n",
    "\n",
    "* It is evident that the output from the Simple LLM model is vague, generic, and contains factual inconsistencies. In contrast, our Research Agent effectively addresses these issues, delivering more precise and reliable results."
   ]
  }
 ],
 "metadata": {
  "kernelspec": {
   "display_name": "Python 3 (ipykernel)",
   "language": "python",
   "name": "python3"
  },
  "language_info": {
   "codemirror_mode": {
    "name": "ipython",
    "version": 3
   },
   "file_extension": ".py",
   "mimetype": "text/x-python",
   "name": "python",
   "nbconvert_exporter": "python",
   "pygments_lexer": "ipython3",
   "version": "3.12.4"
  }
 },
 "nbformat": 4,
 "nbformat_minor": 5
}
